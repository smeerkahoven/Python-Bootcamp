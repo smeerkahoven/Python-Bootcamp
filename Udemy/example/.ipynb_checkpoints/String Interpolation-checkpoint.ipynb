{
 "cells": [
  {
   "cell_type": "code",
   "execution_count": 1,
   "metadata": {},
   "outputs": [
    {
     "name": "stdout",
     "output_type": "stream",
     "text": [
      "This is a string INSERTED\n"
     ]
    }
   ],
   "source": [
    "print(\"This is a string {}\".format('INSERTED'))"
   ]
  },
  {
   "cell_type": "code",
   "execution_count": 2,
   "metadata": {},
   "outputs": [
    {
     "name": "stdout",
     "output_type": "stream",
     "text": [
      "The result is: 19 de Junio\n"
     ]
    }
   ],
   "source": [
    "print(\"The result is: {}\".format('19 de Junio'))"
   ]
  },
  {
   "cell_type": "code",
   "execution_count": 3,
   "metadata": {},
   "outputs": [
    {
     "name": "stdout",
     "output_type": "stream",
     "text": [
      " The house is blue\n"
     ]
    }
   ],
   "source": [
    "print(\" The {} {} {}\".format('house' , 'is', 'blue'))"
   ]
  },
  {
   "cell_type": "code",
   "execution_count": 4,
   "metadata": {},
   "outputs": [
    {
     "name": "stdout",
     "output_type": "stream",
     "text": [
      " The blue is house\n"
     ]
    }
   ],
   "source": [
    "print(\" The {2} {1} {0}\".format('house' , 'is', 'blue'))"
   ]
  },
  {
   "cell_type": "code",
   "execution_count": 5,
   "metadata": {},
   "outputs": [
    {
     "name": "stdout",
     "output_type": "stream",
     "text": [
      " The house house house\n"
     ]
    }
   ],
   "source": [
    "print(\" The {0} {0} {0}\".format('house' , 'is', 'blue'))"
   ]
  },
  {
   "cell_type": "code",
   "execution_count": 6,
   "metadata": {},
   "outputs": [
    {
     "name": "stdout",
     "output_type": "stream",
     "text": [
      "the fox is  quick\n"
     ]
    }
   ],
   "source": [
    "print('the {f} {i}  {q}'.format(f='fox', q='quick', i='is'))"
   ]
  },
  {
   "cell_type": "code",
   "execution_count": 7,
   "metadata": {},
   "outputs": [
    {
     "name": "stdout",
     "output_type": "stream",
     "text": [
      "the fox fox  fox\n"
     ]
    }
   ],
   "source": [
    "print('the {f} {f}  {f}'.format(f='fox', q='quick', i='is'))"
   ]
  },
  {
   "cell_type": "code",
   "execution_count": 11,
   "metadata": {},
   "outputs": [],
   "source": [
    "#other example number precisionabs"
   ]
  },
  {
   "cell_type": "code",
   "execution_count": 12,
   "metadata": {},
   "outputs": [],
   "source": [
    "result = 100/777"
   ]
  },
  {
   "cell_type": "code",
   "execution_count": 13,
   "metadata": {},
   "outputs": [
    {
     "data": {
      "text/plain": [
       "0.1287001287001287"
      ]
     },
     "execution_count": 13,
     "metadata": {},
     "output_type": "execute_result"
    }
   ],
   "source": [
    "result"
   ]
  },
  {
   "cell_type": "code",
   "execution_count": 15,
   "metadata": {},
   "outputs": [
    {
     "name": "stdout",
     "output_type": "stream",
     "text": [
      "the result is 0.1287001287001287\n"
     ]
    }
   ],
   "source": [
    "print(\"the result is {}\".format(result))"
   ]
  },
  {
   "cell_type": "code",
   "execution_count": 16,
   "metadata": {},
   "outputs": [
    {
     "name": "stdout",
     "output_type": "stream",
     "text": [
      "the result is 0.129\n"
     ]
    }
   ],
   "source": [
    "print(\"the result is {:1.3f}\".format(result))"
   ]
  },
  {
   "cell_type": "code",
   "execution_count": 18,
   "metadata": {},
   "outputs": [
    {
     "name": "stdout",
     "output_type": "stream",
     "text": [
      "the result is      0.129\n"
     ]
    }
   ],
   "source": [
    "#aqui deja 10 espacios\n",
    "print(\"the result is {:10.3f}\".format(result))"
   ]
  },
  {
   "cell_type": "code",
   "execution_count": null,
   "metadata": {},
   "outputs": [],
   "source": []
  },
  {
   "cell_type": "code",
   "execution_count": 19,
   "metadata": {},
   "outputs": [],
   "source": [
    "name=\"jose\""
   ]
  },
  {
   "cell_type": "code",
   "execution_count": 20,
   "metadata": {},
   "outputs": [
    {
     "name": "stdout",
     "output_type": "stream",
     "text": [
      "Hello his name is {name}\n"
     ]
    }
   ],
   "source": [
    "print('Hello his name is {name}')"
   ]
  },
  {
   "cell_type": "code",
   "execution_count": 21,
   "metadata": {},
   "outputs": [
    {
     "name": "stdout",
     "output_type": "stream",
     "text": [
      "Hello his name is jose\n"
     ]
    }
   ],
   "source": [
    "#Al colocar f por delante del string\n",
    "\n",
    "print(f'Hello his name is {name}')"
   ]
  },
  {
   "cell_type": "code",
   "execution_count": 22,
   "metadata": {},
   "outputs": [
    {
     "name": "stdout",
     "output_type": "stream",
     "text": [
      "Jose Miguel is 35 years old.\n"
     ]
    }
   ],
   "source": [
    "#multiple variables\n",
    "name = \"Jose Miguel\"\n",
    "age = 35\n",
    "\n",
    "print(f'{name} is {age} years old.')"
   ]
  },
  {
   "cell_type": "code",
   "execution_count": 23,
   "metadata": {},
   "outputs": [
    {
     "name": "stdout",
     "output_type": "stream",
     "text": [
      "I am going to inject hola here.\n"
     ]
    }
   ],
   "source": [
    "print(\"I am going to inject %s here.\" %'hola')"
   ]
  },
  {
   "cell_type": "code",
   "execution_count": 24,
   "metadata": {},
   "outputs": [
    {
     "name": "stdout",
     "output_type": "stream",
     "text": [
      "Interpolacion 1:Mixy y la otra interpolacion 2:Evelin\n"
     ]
    }
   ],
   "source": [
    "print(\"Interpolacion 1:%s y la otra interpolacion 2:%s\"%('Mixy','Evelin'))"
   ]
  },
  {
   "cell_type": "code",
   "execution_count": 25,
   "metadata": {},
   "outputs": [],
   "source": [
    "var1, var2 = 'Juan', 5"
   ]
  },
  {
   "cell_type": "code",
   "execution_count": 26,
   "metadata": {},
   "outputs": [
    {
     "name": "stdout",
     "output_type": "stream",
     "text": [
      "Juan tiene 5 bolivianos para gastar\n"
     ]
    }
   ],
   "source": [
    "print(\"%s tiene %s bolivianos para gastar\"%(var1,var2))"
   ]
  },
  {
   "cell_type": "code",
   "execution_count": 27,
   "metadata": {},
   "outputs": [
    {
     "name": "stdout",
     "output_type": "stream",
     "text": [
      "Yo escribi 3.56 hoy.\n"
     ]
    }
   ],
   "source": [
    "print ('Yo escribi %s hoy.'%3.56)"
   ]
  },
  {
   "cell_type": "code",
   "execution_count": 28,
   "metadata": {},
   "outputs": [
    {
     "name": "stdout",
     "output_type": "stream",
     "text": [
      "yo escribi 3 hoy\n"
     ]
    }
   ],
   "source": [
    "print (\"yo escribi %d hoy\"%3.45)"
   ]
  },
  {
   "cell_type": "code",
   "execution_count": 29,
   "metadata": {},
   "outputs": [
    {
     "name": "stdout",
     "output_type": "stream",
     "text": [
      "floating point numbers  3.14\n"
     ]
    }
   ],
   "source": [
    "print('floating point numbers %5.2f'%(3.14156))"
   ]
  },
  {
   "cell_type": "code",
   "execution_count": 30,
   "metadata": {},
   "outputs": [
    {
     "name": "stdout",
     "output_type": "stream",
     "text": [
      "floating point numbers  3.15\n"
     ]
    }
   ],
   "source": [
    "print('floating point numbers %5.2f'%(3.14956))"
   ]
  },
  {
   "cell_type": "code",
   "execution_count": 31,
   "metadata": {},
   "outputs": [
    {
     "name": "stdout",
     "output_type": "stream",
     "text": [
      "floating point numbers 3.142\n"
     ]
    }
   ],
   "source": [
    "print('floating point numbers %5.3f'%(3.14156))"
   ]
  },
  {
   "cell_type": "code",
   "execution_count": 32,
   "metadata": {},
   "outputs": [
    {
     "ename": "KeyError",
     "evalue": "'a'",
     "output_type": "error",
     "traceback": [
      "\u001b[0;31m---------------------------------------------------------------------------\u001b[0m",
      "\u001b[0;31mKeyError\u001b[0m                                  Traceback (most recent call last)",
      "\u001b[0;32m<ipython-input-32-506b9bbe352f>\u001b[0m in \u001b[0;36m<module>\u001b[0;34m\u001b[0m\n\u001b[1;32m      1\u001b[0m \u001b[0;31m#otra interpolacion\u001b[0m\u001b[0;34m\u001b[0m\u001b[0;34m\u001b[0m\u001b[0;34m\u001b[0m\u001b[0m\n\u001b[0;32m----> 2\u001b[0;31m \u001b[0mprint\u001b[0m\u001b[0;34m(\u001b[0m\u001b[0;34m'La Guerra de las Galaxias:{a},{b}'\u001b[0m\u001b[0;34m.\u001b[0m\u001b[0mformat\u001b[0m\u001b[0;34m(\u001b[0m\u001b[0;34m'Episodio I'\u001b[0m\u001b[0;34m,\u001b[0m \u001b[0;34m'Episodio I'\u001b[0m\u001b[0;34m)\u001b[0m\u001b[0;34m)\u001b[0m\u001b[0;34m\u001b[0m\u001b[0;34m\u001b[0m\u001b[0m\n\u001b[0m",
      "\u001b[0;31mKeyError\u001b[0m: 'a'"
     ]
    }
   ],
   "source": [
    "#otra interpolacion\n",
    "print('La Guerra de las Galaxias:{a},{b}'.format('Episodio I', 'Episodio I'))"
   ]
  },
  {
   "cell_type": "code",
   "execution_count": 33,
   "metadata": {},
   "outputs": [
    {
     "name": "stdout",
     "output_type": "stream",
     "text": [
      "La Guerra de las Galaxias:Episodio I,Episodio I\n"
     ]
    }
   ],
   "source": [
    "print('La Guerra de las Galaxias:{a},{b}'.format(a='Episodio I',b='Episodio I'))"
   ]
  },
  {
   "cell_type": "code",
   "execution_count": 34,
   "metadata": {},
   "outputs": [
    {
     "name": "stdout",
     "output_type": "stream",
     "text": [
      "Fruit    | Quantity \n",
      "Orange   | 10       \n",
      "Apple    | 100      \n"
     ]
    }
   ],
   "source": [
    "print('{0:8} | {1:9}'.format('Fruit','Quantity'))\n",
    "print('{0:8} | {1:9}'.format('Orange','10'))\n",
    "print('{0:8} | {1:9}'.format('Apple','100'))"
   ]
  },
  {
   "cell_type": "code",
   "execution_count": 35,
   "metadata": {},
   "outputs": [
    {
     "name": "stdout",
     "output_type": "stream",
     "text": [
      "Fruit    | Quantity \n",
      "Orange   |        10\n",
      "Apple    |       100\n"
     ]
    }
   ],
   "source": [
    "print('{0:8} | {1:9}'.format('Fruit','Quantity'))\n",
    "print('{0:8} | {1:9}'.format('Orange',10))\n",
    "print('{0:8} | {1:9}'.format('Apple',100))"
   ]
  },
  {
   "cell_type": "code",
   "execution_count": 41,
   "metadata": {},
   "outputs": [
    {
     "name": "stdout",
     "output_type": "stream",
     "text": [
      "Left     |  Center   |     Right\n",
      "11       |    22     |   3388844\n"
     ]
    }
   ],
   "source": [
    "print('{0:<8} | {1:^9} | {2:>9}'.format('Left','Center','Right'))\n",
    "print('{0:<8} | {1:^9} | {2:>9}'.format(11,22,3388844))"
   ]
  },
  {
   "cell_type": "code",
   "execution_count": 42,
   "metadata": {},
   "outputs": [
    {
     "name": "stdout",
     "output_type": "stream",
     "text": [
      "I like apples\n"
     ]
    }
   ],
   "source": [
    "print('{a} {b} {c}'.format(a='I', b='like', c='apples'))"
   ]
  },
  {
   "cell_type": "code",
   "execution_count": null,
   "metadata": {},
   "outputs": [],
   "source": []
  }
 ],
 "metadata": {
  "kernelspec": {
   "display_name": "Python 3",
   "language": "python",
   "name": "python3"
  },
  "language_info": {
   "codemirror_mode": {
    "name": "ipython",
    "version": 3
   },
   "file_extension": ".py",
   "mimetype": "text/x-python",
   "name": "python",
   "nbconvert_exporter": "python",
   "pygments_lexer": "ipython3",
   "version": "3.7.4"
  }
 },
 "nbformat": 4,
 "nbformat_minor": 2
}
