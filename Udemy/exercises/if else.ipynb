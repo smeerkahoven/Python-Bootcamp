{
 "cells": [
  {
   "cell_type": "code",
   "execution_count": 8,
   "metadata": {},
   "outputs": [
    {
     "name": "stdout",
     "output_type": "stream",
     "text": [
      "nunca\n"
     ]
    }
   ],
   "source": [
    "a=3\n",
    "if a == 1: \n",
    "    print('homa mund')\n",
    "elif a==3 :\n",
    "    print('nunca')\n"
   ]
  },
  {
   "cell_type": "code",
   "execution_count": 10,
   "metadata": {},
   "outputs": [
    {
     "name": "stdout",
     "output_type": "stream",
     "text": [
      "money\n"
     ]
    }
   ],
   "source": [
    "loc = 'bank'\n",
    "if loc=='park':\n",
    "    print('cars')\n",
    "elif loc=='bank':\n",
    "    print('money')\n",
    "else: \n",
    "    print('dont know')"
   ]
  },
  {
   "cell_type": "code",
   "execution_count": 12,
   "metadata": {},
   "outputs": [
    {
     "name": "stdout",
     "output_type": "stream",
     "text": [
      "what is your name?\n"
     ]
    }
   ],
   "source": [
    "name='Jose'\n",
    "if name=='juan':\n",
    "    print('hello juan')\n",
    "elif name =='bill':\n",
    "    print('hello bill')\n",
    "elif name == 'jose':\n",
    "    print('hello jose')\n",
    "else:\n",
    "    print('what is your name?')\n",
    "\n"
   ]
  },
  {
   "cell_type": "code",
   "execution_count": null,
   "metadata": {},
   "outputs": [],
   "source": []
  }
 ],
 "metadata": {
  "kernelspec": {
   "display_name": "Python 3",
   "language": "python",
   "name": "python3"
  },
  "language_info": {
   "codemirror_mode": {
    "name": "ipython",
    "version": 3
   },
   "file_extension": ".py",
   "mimetype": "text/x-python",
   "name": "python",
   "nbconvert_exporter": "python",
   "pygments_lexer": "ipython3",
   "version": "3.7.4"
  }
 },
 "nbformat": 4,
 "nbformat_minor": 2
}
